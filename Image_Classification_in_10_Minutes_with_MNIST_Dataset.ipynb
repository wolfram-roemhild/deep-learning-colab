{
  "nbformat": 4,
  "nbformat_minor": 0,
  "metadata": {
    "colab": {
      "name": "Image Classification in 10 Minutes with MNIST Dataset ",
      "version": "0.3.2",
      "provenance": [],
      "collapsed_sections": [],
      "include_colab_link": true
    },
    "kernelspec": {
      "name": "python3",
      "display_name": "Python 3"
    },
    "accelerator": "GPU"
  },
  "cells": [
    {
      "cell_type": "markdown",
      "metadata": {
        "id": "view-in-github",
        "colab_type": "text"
      },
      "source": [
        "<a href=\"https://colab.research.google.com/github/wolfram-roemhild/deep-learning-colab/blob/master/Image_Classification_in_10_Minutes_with_MNIST_Dataset.ipynb\" target=\"_parent\"><img src=\"https://colab.research.google.com/assets/colab-badge.svg\" alt=\"Open In Colab\"/></a>"
      ]
    },
    {
      "metadata": {
        "id": "yb69uhApy3ze",
        "colab_type": "text"
      },
      "cell_type": "markdown",
      "source": [
        "# Image Classification in 10 Minutes with MNIST Dataset\n",
        "Forked from [Orhan Gazi Yalçın](https://towardsdatascience.com/@oyalcin)"
      ]
    },
    {
      "metadata": {
        "id": "hee6VjKqIJ3L",
        "colab_type": "code",
        "outputId": "c1d34f4d-09db-4d7e-d149-7e54bc20fc97",
        "colab": {
          "base_uri": "https://localhost:8080/",
          "height": 53
        }
      },
      "cell_type": "code",
      "source": [
        "import tensorflow as tf\n",
        "(x_train, y_train), (x_test, y_test) = tf.keras.datasets.mnist.load_data()"
      ],
      "execution_count": 0,
      "outputs": [
        {
          "output_type": "stream",
          "text": [
            "Downloading data from https://storage.googleapis.com/tensorflow/tf-keras-datasets/mnist.npz\n",
            "11493376/11490434 [==============================] - 0s 0us/step\n"
          ],
          "name": "stdout"
        }
      ]
    },
    {
      "metadata": {
        "id": "nBzpxy7iVoQe",
        "colab_type": "text"
      },
      "cell_type": "markdown",
      "source": [
        "## Image Classification in 10 Minutes with MNIST Dataset, adapted from Orhan Gazi Yalzin"
      ]
    },
    {
      "metadata": {
        "id": "bTEIbr4BIiSa",
        "colab_type": "code",
        "outputId": "96099d8b-9689-4188-fe59-d39bec530845",
        "colab": {
          "base_uri": "https://localhost:8080/",
          "height": 301
        }
      },
      "cell_type": "code",
      "source": [
        "import matplotlib.pyplot as plt\n",
        "%matplotlib inline \n",
        "# Only use this if using iPython\n",
        "i = 7777 # You may select anything up to 60,000\n",
        "print(y_train[i])\n",
        "plt.imshow(x_train[i])"
      ],
      "execution_count": 0,
      "outputs": [
        {
          "output_type": "stream",
          "text": [
            "8\n"
          ],
          "name": "stdout"
        },
        {
          "output_type": "execute_result",
          "data": {
            "text/plain": [
              "<matplotlib.image.AxesImage at 0x7f5920423a90>"
            ]
          },
          "metadata": {
            "tags": []
          },
          "execution_count": 3
        },
        {
          "output_type": "display_data",
          "data": {
            "image/png": "[encoded data removed]",
            "text/plain": [
              "<matplotlib.figure.Figure at 0x7f5923180ef0>"
            ]
          },
          "metadata": {
            "tags": []
          }
        }
      ]
    },
    {
      "metadata": {
        "id": "O0WVCJiSRZ2Q",
        "colab_type": "code",
        "outputId": "16157193-3403-4d17-d363-ab17fe7bdbc6",
        "colab": {
          "base_uri": "https://localhost:8080/",
          "height": 35
        }
      },
      "cell_type": "code",
      "source": [
        "x_train.shape"
      ],
      "execution_count": 0,
      "outputs": [
        {
          "output_type": "execute_result",
          "data": {
            "text/plain": [
              "(60000, 28, 28)"
            ]
          },
          "metadata": {
            "tags": []
          },
          "execution_count": 4
        }
      ]
    },
    {
      "metadata": {
        "id": "Q2HtE2HoSEWQ",
        "colab_type": "code",
        "outputId": "d77c8e0a-288f-47df-98e6-8841cd83b8b2",
        "colab": {
          "base_uri": "https://localhost:8080/",
          "height": 71
        }
      },
      "cell_type": "code",
      "source": [
        "# Reshaping the array to 4-dims so that it can work with the Keras API\n",
        "x_train = x_train.reshape(x_train.shape[0], 28, 28, 1)\n",
        "x_test = x_test.reshape(x_test.shape[0], 28, 28, 1)\n",
        "input_shape = (28, 28, 1)\n",
        "# Making sure that the values are float so that we can get decimal points after division\n",
        "x_train = x_train.astype('float32')\n",
        "x_test = x_test.astype('float32')\n",
        "# Normalizing the RGB codes by dividing it to the max RGB value.\n",
        "x_train /= 255\n",
        "x_test /= 255\n",
        "print('x_train shape:', x_train.shape)\n",
        "print('Number of images in x_train', x_train.shape[0])\n",
        "print('Number of images in x_test', x_test.shape[0])"
      ],
      "execution_count": 0,
      "outputs": [
        {
          "output_type": "stream",
          "text": [
            "x_train shape: (60000, 28, 28, 1)\n",
            "Number of images in x_train 60000\n",
            "Number of images in x_test 10000\n"
          ],
          "name": "stdout"
        }
      ]
    },
    {
      "metadata": {
        "id": "hFDAPnRESwuW",
        "colab_type": "code",
        "outputId": "2bcc8859-7dc0-4ad5-d2ef-c6d5a54b0352",
        "colab": {
          "base_uri": "https://localhost:8080/",
          "height": 35
        }
      },
      "cell_type": "code",
      "source": [
        "# Importing the required Keras modules containing model and layers\n",
        "from keras.models import Sequential\n",
        "from keras.layers import Dense, Conv2D, Dropout, Flatten, MaxPooling2D\n",
        "# Creating a Sequential Model and adding the layers\n",
        "model = Sequential()\n",
        "model.add(Conv2D(28, kernel_size=(8,4), input_shape=input_shape))\n",
        "model.add(MaxPooling2D(pool_size=(4, 6)))\n",
        "model.add(Flatten()) # Flattening the 2D arrays for fully connected layers\n",
        "model.add(Dense(128, activation=tf.nn.relu))\n",
        "model.add(Dropout(0.2))\n",
        "model.add(Dense(10,activation=tf.nn.softmax))"
      ],
      "execution_count": 0,
      "outputs": [
        {
          "output_type": "stream",
          "text": [
            "Using TensorFlow backend.\n"
          ],
          "name": "stderr"
        }
      ]
    },
    {
      "metadata": {
        "id": "3kn7LQVDT5yl",
        "colab_type": "code",
        "outputId": "e0b76c3f-fe58-429a-de1c-9f0e003d4f5b",
        "colab": {
          "base_uri": "https://localhost:8080/",
          "height": 395
        }
      },
      "cell_type": "code",
      "source": [
        "model.compile(optimizer='adam', \n",
        "              loss='sparse_categorical_crossentropy', \n",
        "              metrics=['accuracy'])\n",
        "model.fit(x=x_train,y=y_train, epochs=10)"
      ],
      "execution_count": 0,
      "outputs": [
        {
          "output_type": "stream",
          "text": [
            "Epoch 1/10\n",
            "60000/60000 [==============================] - 16s 261us/step - loss: 0.1955 - acc: 0.9414\n",
            "Epoch 2/10\n",
            "60000/60000 [==============================] - 13s 209us/step - loss: 0.0672 - acc: 0.9790\n",
            "Epoch 3/10\n",
            "60000/60000 [==============================] - 12s 195us/step - loss: 0.0496 - acc: 0.9848\n",
            "Epoch 4/10\n",
            "60000/60000 [==============================] - 12s 194us/step - loss: 0.0412 - acc: 0.9869\n",
            "Epoch 5/10\n",
            "60000/60000 [==============================] - 11s 191us/step - loss: 0.0350 - acc: 0.9889\n",
            "Epoch 6/10\n",
            "60000/60000 [==============================] - 11s 189us/step - loss: 0.0301 - acc: 0.9902\n",
            "Epoch 7/10\n",
            "60000/60000 [==============================] - 12s 193us/step - loss: 0.0264 - acc: 0.9917\n",
            "Epoch 8/10\n",
            "60000/60000 [==============================] - 11s 190us/step - loss: 0.0251 - acc: 0.9919\n",
            "Epoch 9/10\n",
            "60000/60000 [==============================] - 11s 188us/step - loss: 0.0206 - acc: 0.9931\n",
            "Epoch 10/10\n",
            "60000/60000 [==============================] - 11s 190us/step - loss: 0.0200 - acc: 0.9934\n"
          ],
          "name": "stdout"
        },
        {
          "output_type": "execute_result",
          "data": {
            "text/plain": [
              "<keras.callbacks.History at 0x7f5960fb9d68>"
            ]
          },
          "metadata": {
            "tags": []
          },
          "execution_count": 7
        }
      ]
    },
    {
      "metadata": {
        "id": "Kw1kTd7hVKap",
        "colab_type": "code",
        "outputId": "da442a54-ccb1-428f-9de3-2826d9e25112",
        "colab": {
          "base_uri": "https://localhost:8080/",
          "height": 53
        }
      },
      "cell_type": "code",
      "source": [
        "model.evaluate(x_test, y_test)"
      ],
      "execution_count": 0,
      "outputs": [
        {
          "output_type": "stream",
          "text": [
            "10000/10000 [==============================] - 1s 67us/step\n"
          ],
          "name": "stdout"
        },
        {
          "output_type": "execute_result",
          "data": {
            "text/plain": [
              "[0.03285218872379373, 0.9908]"
            ]
          },
          "metadata": {
            "tags": []
          },
          "execution_count": 8
        }
      ]
    },
    {
      "metadata": {
        "id": "c3J5azLJVpKI",
        "colab_type": "code",
        "outputId": "06b238a3-f853-494a-d7c3-26d41f38c762",
        "colab": {
          "base_uri": "https://localhost:8080/",
          "height": 283
        }
      },
      "cell_type": "code",
      "source": [
        "image_index = 445\n",
        "plt.imshow(x_test[image_index].reshape(28, 28),cmap='Greys')\n",
        "pred = model.predict(x_test[image_index].reshape(1, 28, 28, 1))\n",
        "print(pred.argmax(),y_test[image_index])"
      ],
      "execution_count": 0,
      "outputs": [
        {
          "output_type": "stream",
          "text": [
            "6 6\n"
          ],
          "name": "stdout"
        },
        {
          "output_type": "display_data",
          "data": {
            "image/png": "[encoded data removed]",
            "text/plain": [
              "<matplotlib.figure.Figure at 0x7f591955b7f0>"
            ]
          },
          "metadata": {
            "tags": []
          }
        }
      ]
    }
  ]
}