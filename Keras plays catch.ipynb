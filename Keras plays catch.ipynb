{
  "nbformat": 4,
  "nbformat_minor": 0,
  "metadata": {
    "colab": {
      "name": "bd54c723c1d6335a43c8",
      "version": "0.3.2",
      "provenance": [],
      "include_colab_link": true
    },
    "kernelspec": {
      "name": "python3",
      "display_name": "Python 3"
    }
  },
  "cells": [
    {
      "cell_type": "markdown",
      "metadata": {
        "id": "view-in-github",
        "colab_type": "text"
      },
      "source": [
        "<a href=\"https://colab.research.google.com/github/wolfram-roemhild/deep-learning-colab/blob/master/Keras%20plays%20catch.ipynb\" target=\"_parent\"><img src=\"https://colab.research.google.com/assets/colab-badge.svg\" alt=\"Open In Colab\"/></a>"
      ]
    },
    {
      "metadata": {
        "id": "XfS_p1hBbsTD",
        "colab_type": "text"
      },
      "cell_type": "markdown",
      "source": [
        "Somehow this model needs to be started with the last cell first. It does generate an error for now."
      ]
    },
    {
      "metadata": {
        "id": "ndaXB2b2ZL7H",
        "colab_type": "code",
        "outputId": "ccac981f-9c9b-4b61-e06a-42b45a264b85",
        "colab": {
          "base_uri": "https://localhost:8080/",
          "height": 965
        }
      },
      "cell_type": "code",
      "source": [
        "train(model)\n",
        "test(model)"
      ],
      "execution_count": 5,
      "outputs": [
        {
          "output_type": "stream",
          "text": [
            "Action Stay, Points: 3000\n"
          ],
          "name": "stdout"
        },
        {
          "output_type": "display_data",
          "data": {
            "image/png": "[encoded data removed]",
            "text/plain": [
              "<matplotlib.figure.Figure at 0x7f8beae3b208>"
            ]
          },
          "metadata": {
            "tags": []
          }
        },
        {
          "output_type": "error",
          "ename": "IndexError",
          "evalue": "ignored",
          "traceback": [
            "\u001b[0;31m---------------------------------------------------------------------------\u001b[0m",
            "\u001b[0;31mIndexError\u001b[0m                                Traceback (most recent call last)",
            "\u001b[0;32m<ipython-input-5-a355d771d92e>\u001b[0m in \u001b[0;36m<module>\u001b[0;34m()\u001b[0m\n\u001b[0;32m----> 1\u001b[0;31m \u001b[0mtrain\u001b[0m\u001b[0;34m(\u001b[0m\u001b[0mmodel\u001b[0m\u001b[0;34m)\u001b[0m\u001b[0;34m\u001b[0m\u001b[0;34m\u001b[0m\u001b[0m\n\u001b[0m\u001b[1;32m      2\u001b[0m \u001b[0mtest\u001b[0m\u001b[0;34m(\u001b[0m\u001b[0mmodel\u001b[0m\u001b[0;34m)\u001b[0m\u001b[0;34m\u001b[0m\u001b[0;34m\u001b[0m\u001b[0m\n",
            "\u001b[0;32m<ipython-input-1-abca03a2deb3>\u001b[0m in \u001b[0;36mtrain\u001b[0;34m(model)\u001b[0m\n\u001b[1;32m    164\u001b[0m             \u001b[0mdisplay_screen\u001b[0m\u001b[0;34m(\u001b[0m\u001b[0maction\u001b[0m\u001b[0;34m,\u001b[0m\u001b[0;36m3000\u001b[0m\u001b[0;34m,\u001b[0m\u001b[0minputs\u001b[0m\u001b[0;34m[\u001b[0m\u001b[0;36m0\u001b[0m\u001b[0;34m]\u001b[0m\u001b[0;34m)\u001b[0m\u001b[0;34m\u001b[0m\u001b[0;34m\u001b[0m\u001b[0m\n\u001b[1;32m    165\u001b[0m \u001b[0;34m\u001b[0m\u001b[0m\n\u001b[0;32m--> 166\u001b[0;31m             \u001b[0mloss\u001b[0m \u001b[0;34m+=\u001b[0m \u001b[0mmodel\u001b[0m\u001b[0;34m.\u001b[0m\u001b[0mtrain_on_batch\u001b[0m\u001b[0;34m(\u001b[0m\u001b[0minputs\u001b[0m\u001b[0;34m,\u001b[0m \u001b[0mtargets\u001b[0m\u001b[0;34m)\u001b[0m\u001b[0;34m[\u001b[0m\u001b[0;36m0\u001b[0m\u001b[0;34m]\u001b[0m\u001b[0;34m\u001b[0m\u001b[0;34m\u001b[0m\u001b[0m\n\u001b[0m\u001b[1;32m    167\u001b[0m         \u001b[0mprint\u001b[0m\u001b[0;34m(\u001b[0m\u001b[0;34m\"Epoch {:03d}/999 | Loss {:.4f} | Win count {}\"\u001b[0m\u001b[0;34m.\u001b[0m\u001b[0mformat\u001b[0m\u001b[0;34m(\u001b[0m\u001b[0me\u001b[0m\u001b[0;34m,\u001b[0m \u001b[0mloss\u001b[0m\u001b[0;34m,\u001b[0m \u001b[0mwin_cnt\u001b[0m\u001b[0;34m)\u001b[0m\u001b[0;34m)\u001b[0m\u001b[0;34m\u001b[0m\u001b[0;34m\u001b[0m\u001b[0m\n",
            "\u001b[0;31mIndexError\u001b[0m: invalid index to scalar variable."
          ]
        },
        {
          "output_type": "display_data",
          "data": {
            "image/png": "[encoded data removed]",
            "text/plain": [
              "<matplotlib.figure.Figure at 0x7f8beae3b208>"
            ]
          },
          "metadata": {
            "tags": []
          }
        }
      ]
    },
    {
      "metadata": {
        "id": "PnhQ6q1gZL7M",
        "colab_type": "code",
        "colab": {}
      },
      "cell_type": "code",
      "source": [
        "%matplotlib inline\n",
        "import seaborn\n",
        "seaborn.set()\n",
        "import json\n",
        "import matplotlib.pyplot as plt\n",
        "import numpy as np\n",
        "import time\n",
        "from keras.models import model_from_json\n",
        "#from qlearn import Catch\n",
        "from PIL import Image\n",
        "from IPython import display\n",
        "last_frame_time = 0\n",
        "translate_action = [\"Left\",\"Stay\",\"Right\",\"Create Ball\",\"End Test\"]\n",
        "grid_size = 10\n",
        "\n",
        "def display_screen(action,points,input_t):\n",
        "    global last_frame_time\n",
        "    display.clear_output(wait=True)\n",
        "    print (\"Action %s, Points: %d\" % (translate_action[action],points))\n",
        "    if(\"End\" not in translate_action[action]):\n",
        "        plt.imshow(input_t.reshape((grid_size,)*2),\n",
        "               interpolation='none', cmap='gray')\n",
        "        display.display(plt.gcf())\n",
        "    last_frame_time = set_max_fps(last_frame_time)\n",
        "def set_max_fps(last_frame_time,FPS = 1):\n",
        "    current_milli_time = lambda: int(round(time.time() * 1000))\n",
        "    sleep_time = 1./FPS - (current_milli_time() - last_frame_time)\n",
        "    if sleep_time > 0:\n",
        "        time.sleep(sleep_time)\n",
        "    return current_milli_time()\n",
        "def test(model):\n",
        "    global last_frame_time\n",
        "    plt.ion()\n",
        "    # Define environment, game\n",
        "    env = Catch(grid_size)\n",
        "    c = 0\n",
        "    last_frame_time = 0\n",
        "    points = 0\n",
        "    for e in range(10):\n",
        "        loss = 0.\n",
        "        env.reset()\n",
        "        game_over = False\n",
        "        # get initial input\n",
        "        input_t = env.observe()\n",
        "        display_screen(3,points,input_t)\n",
        "        c += 1\n",
        "        while not game_over:\n",
        "            input_tm1 = input_t\n",
        "            # get next action\n",
        "            q = model.predict(input_tm1)\n",
        "            action = np.argmax(q[0])\n",
        "            # apply action, get rewards and new state\n",
        "            input_t, reward, game_over = env.act(action)\n",
        "            points += reward\n",
        "            display_screen(action,points,input_t)\n",
        "            c += 1\n",
        "    display_screen(4,points,input_t)"
      ],
      "execution_count": 0,
      "outputs": []
    },
    {
      "metadata": {
        "id": "UCArN5mTZL7R",
        "colab_type": "code",
        "colab": {
          "base_uri": "https://localhost:8080/",
          "height": 35
        },
        "outputId": "acf122e0-deb3-4618-88c7-3042f51ce6ff"
      },
      "cell_type": "code",
      "source": [
        "import json\n",
        "import numpy as np\n",
        "from keras.models import Sequential\n",
        "from keras.layers.core import Dense\n",
        "from keras.optimizers import sgd\n",
        "\n",
        "\n",
        "class Catch(object):\n",
        "    def __init__(self, grid_size=10):\n",
        "        self.grid_size = grid_size\n",
        "        self.reset()\n",
        "\n",
        "    def _update_state(self, action):\n",
        "        \"\"\"\n",
        "        Input: action and states\n",
        "        Ouput: new states and reward\n",
        "        \"\"\"\n",
        "        state = self.state\n",
        "        if action == 0:  # left\n",
        "            action = -1\n",
        "        elif action == 1:  # stay\n",
        "            action = 0\n",
        "        else:\n",
        "            action = 1  # right\n",
        "        f0, f1, basket = state[0]\n",
        "        new_basket = min(max(1, basket + action), self.grid_size-1)\n",
        "        f0 += 1\n",
        "        out = np.asarray([f0, f1, new_basket])\n",
        "        out = out[np.newaxis]\n",
        "\n",
        "        assert len(out.shape) == 2\n",
        "        self.state = out\n",
        "\n",
        "    def _draw_state(self):\n",
        "        im_size = (self.grid_size,)*2\n",
        "        state = self.state[0]\n",
        "        canvas = np.zeros(im_size)\n",
        "        canvas[state[0], state[1]] = 1  # draw fruit\n",
        "        canvas[-1, state[2]-1:state[2] + 2] = 1  # draw basket\n",
        "        return canvas\n",
        "        \n",
        "    def _get_reward(self):\n",
        "        fruit_row, fruit_col, basket = self.state[0]\n",
        "        if fruit_row == self.grid_size-1:\n",
        "            if abs(fruit_col - basket) <= 1:\n",
        "                return 1\n",
        "            else:\n",
        "                return -1\n",
        "        else:\n",
        "            return 0\n",
        "\n",
        "    def _is_over(self):\n",
        "        if self.state[0, 0] == self.grid_size-1:\n",
        "            return True\n",
        "        else:\n",
        "            return False\n",
        "\n",
        "    def observe(self):\n",
        "        canvas = self._draw_state()\n",
        "        return canvas.reshape((1, -1))\n",
        "\n",
        "    def act(self, action):\n",
        "        self._update_state(action)\n",
        "        reward = self._get_reward()\n",
        "        game_over = self._is_over()\n",
        "        return self.observe(), reward, game_over\n",
        "\n",
        "    def reset(self):\n",
        "        n = np.random.randint(0, self.grid_size-1, size=1)\n",
        "        m = np.random.randint(1, self.grid_size-2, size=1)\n",
        "        self.state = np.asarray([0, n, m])[np.newaxis]\n",
        "\n",
        "\n",
        "class ExperienceReplay(object):\n",
        "    def __init__(self, max_memory=100, discount=.9):\n",
        "        self.max_memory = max_memory\n",
        "        self.memory = list()\n",
        "        self.discount = discount\n",
        "\n",
        "    def remember(self, states, game_over):\n",
        "        # memory[i] = [[state_t, action_t, reward_t, state_t+1], game_over?]\n",
        "        self.memory.append([states, game_over])\n",
        "        if len(self.memory) > self.max_memory:\n",
        "            del self.memory[0]\n",
        "\n",
        "    def get_batch(self, model, batch_size=10):\n",
        "        len_memory = len(self.memory)\n",
        "        num_actions = model.output_shape[-1]\n",
        "        env_dim = self.memory[0][0][0].shape[1]\n",
        "        inputs = np.zeros((min(len_memory, batch_size), env_dim))\n",
        "        targets = np.zeros((inputs.shape[0], num_actions))\n",
        "        for i, idx in enumerate(np.random.randint(0, len_memory,\n",
        "                                                  size=inputs.shape[0])):\n",
        "            state_t, action_t, reward_t, state_tp1 = self.memory[idx][0]\n",
        "            game_over = self.memory[idx][1]\n",
        "\n",
        "            inputs[i:i+1] = state_t\n",
        "            # There should be no target values for actions not taken.\n",
        "            # Thou shalt not correct actions not taken #deep\n",
        "            targets[i] = model.predict(state_t)[0]\n",
        "            Q_sa = np.max(model.predict(state_tp1)[0])\n",
        "            if game_over:  # if game_over is True\n",
        "                targets[i, action_t] = reward_t\n",
        "            else:\n",
        "                # reward_t + gamma * max_a' Q(s', a')\n",
        "                targets[i, action_t] = reward_t + self.discount * Q_sa\n",
        "        return inputs, targets\n",
        "\n",
        "   \n",
        "# parameters\n",
        "epsilon = .1  # exploration\n",
        "num_actions = 3  # [move_left, stay, move_right]\n",
        "epoch = 1000\n",
        "max_memory = 500\n",
        "hidden_size = 100\n",
        "batch_size = 1\n",
        "grid_size = 10\n",
        "\n",
        "model = Sequential()\n",
        "model.add(Dense(hidden_size, input_shape=(grid_size**2,), activation='relu'))\n",
        "model.add(Dense(hidden_size, activation='relu'))\n",
        "model.add(Dense(num_actions))\n",
        "model.compile(sgd(lr=.2), \"mse\")\n",
        "    \n",
        "# If you want to continue training from a previous model, just uncomment the line bellow\n",
        "# model.load_weights(\"model.h5\")\n",
        "\n",
        "# Define environment/game\n",
        "env = Catch(grid_size)\n",
        "\n",
        "# Initialize experience replay object\n",
        "exp_replay = ExperienceReplay(max_memory=max_memory)\n",
        "\n",
        "def train(model):\n",
        "    # Train\n",
        "    win_cnt = 0\n",
        "    for e in range(1):\n",
        "        loss = 0.\n",
        "        env.reset()\n",
        "        game_over = False\n",
        "        # get initial input\n",
        "        input_t = env.observe()\n",
        "\n",
        "        while not game_over:\n",
        "            input_tm1 = input_t\n",
        "            # get next action\n",
        "            if np.random.rand() <= epsilon:\n",
        "                action = np.random.randint(0, num_actions, size=1)\n",
        "            else:\n",
        "                q = model.predict(input_tm1)\n",
        "                action = np.argmax(q[0])\n",
        "\n",
        "            # apply action, get rewards and new state\n",
        "            input_t, reward, game_over = env.act(action)\n",
        "            if reward == 1:\n",
        "                win_cnt += 1\n",
        "\n",
        "            # store experience\n",
        "            exp_replay.remember([input_tm1, action, reward, input_t], game_over)            \n",
        "            \n",
        "            # adapt model\n",
        "            inputs, targets = exp_replay.get_batch(model, batch_size=batch_size)\n",
        "            \n",
        "            display_screen(action,3000,inputs[0])            \n",
        "            \n",
        "            loss += model.train_on_batch(inputs, targets)[0]\n",
        "        print(\"Epoch {:03d}/999 | Loss {:.4f} | Win count {}\".format(e, loss, win_cnt))\n"
      ],
      "execution_count": 1,
      "outputs": [
        {
          "output_type": "stream",
          "text": [
            "Using TensorFlow backend.\n"
          ],
          "name": "stderr"
        }
      ]
    },
    {
      "metadata": {
        "id": "Qc3X3einZL7V",
        "colab_type": "code",
        "colab": {}
      },
      "cell_type": "code",
      "source": [
        ""
      ],
      "execution_count": 0,
      "outputs": []
    },
    {
      "metadata": {
        "id": "5ugb6vCSZL7Z",
        "colab_type": "code",
        "colab": {}
      },
      "cell_type": "code",
      "source": [
        ""
      ],
      "execution_count": 0,
      "outputs": []
    }
  ]
}